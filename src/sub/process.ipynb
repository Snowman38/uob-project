{
 "cells": [
  {
   "cell_type": "code",
   "execution_count": 2,
   "metadata": {},
   "outputs": [
    {
     "data": {
      "text/plain": [
       "'d:\\\\Projects\\\\uob-project\\\\src\\\\sub'"
      ]
     },
     "execution_count": 2,
     "metadata": {},
     "output_type": "execute_result"
    }
   ],
   "source": [
    "%pwd"
   ]
  },
  {
   "cell_type": "code",
   "execution_count": 3,
   "metadata": {},
   "outputs": [
    {
     "name": "stdout",
     "output_type": "stream",
     "text": [
      "d:\\Projects\\uob-project\n"
     ]
    }
   ],
   "source": [
    "# RUN ONLY ONCE!\n",
    "%cd ../../"
   ]
  },
  {
   "cell_type": "code",
   "execution_count": 7,
   "metadata": {},
   "outputs": [],
   "source": [
    "import pandas as pd\n",
    "from sklearn.preprocessing import MinMaxScaler\n",
    "\n",
    "EXPECTED_NEWS_PER_DAY = 3\n",
    "NEWS_EMBEDDINGS_PATH = \"data/interim/news_reduced_3_per_day_embeddings.csv\"\n",
    "BITCOIN_PATH = \"data/interim/bitcoin.csv\"\n",
    "DONT_PREDICT = [\"change in next day (%)\", \"DayAfterTmr\"]"
   ]
  },
  {
   "cell_type": "code",
   "execution_count": 4,
   "metadata": {},
   "outputs": [
    {
     "data": {
      "text/html": [
       "<div>\n",
       "<style scoped>\n",
       "    .dataframe tbody tr th:only-of-type {\n",
       "        vertical-align: middle;\n",
       "    }\n",
       "\n",
       "    .dataframe tbody tr th {\n",
       "        vertical-align: top;\n",
       "    }\n",
       "\n",
       "    .dataframe thead th {\n",
       "        text-align: right;\n",
       "    }\n",
       "</style>\n",
       "<table border=\"1\" class=\"dataframe\">\n",
       "  <thead>\n",
       "    <tr style=\"text-align: right;\">\n",
       "      <th></th>\n",
       "      <th>Date</th>\n",
       "      <th>Headline</th>\n",
       "      <th>similarity</th>\n",
       "      <th>search</th>\n",
       "    </tr>\n",
       "  </thead>\n",
       "  <tbody>\n",
       "    <tr>\n",
       "      <th>0</th>\n",
       "      <td>2019-01-01</td>\n",
       "      <td>Darwin rugby league player uses bitcoin to buy...</td>\n",
       "      <td>[-0.01071454118937254, 0.011403998360037804, 0...</td>\n",
       "      <td>[-0.014798003248870373, 0.00944652408361435, 0...</td>\n",
       "    </tr>\n",
       "    <tr>\n",
       "      <th>1</th>\n",
       "      <td>2019-01-01</td>\n",
       "      <td>While Bitcoin ‘Died’ 90 Times In 2018, There A...</td>\n",
       "      <td>[-0.008313984610140324, 0.015355568379163742, ...</td>\n",
       "      <td>[-0.01103475783020258, 0.0016785092884674668, ...</td>\n",
       "    </tr>\n",
       "    <tr>\n",
       "      <th>2</th>\n",
       "      <td>2019-01-01</td>\n",
       "      <td>Crypto Market Update Jan.1: New Year, New Hope...</td>\n",
       "      <td>[-0.0011497164377942681, -0.005909790750592947...</td>\n",
       "      <td>[-0.005611605476588011, -0.025839712470769882,...</td>\n",
       "    </tr>\n",
       "    <tr>\n",
       "      <th>3</th>\n",
       "      <td>2019-01-02</td>\n",
       "      <td>Hackers Threaten to Dump 9/11 Related Insuranc...</td>\n",
       "      <td>[0.0009691137238405645, 0.006849941331893206, ...</td>\n",
       "      <td>[0.0014824277022853494, -0.0005108365439809859...</td>\n",
       "    </tr>\n",
       "    <tr>\n",
       "      <th>4</th>\n",
       "      <td>2019-01-02</td>\n",
       "      <td>Marketing Was A Driving Force In The ICO Hype ...</td>\n",
       "      <td>[-0.0020507564768195152, -0.001764271291904151...</td>\n",
       "      <td>[-0.014102131128311157, -0.011523179709911346,...</td>\n",
       "    </tr>\n",
       "  </tbody>\n",
       "</table>\n",
       "</div>"
      ],
      "text/plain": [
       "         Date                                           Headline  \\\n",
       "0  2019-01-01  Darwin rugby league player uses bitcoin to buy...   \n",
       "1  2019-01-01  While Bitcoin ‘Died’ 90 Times In 2018, There A...   \n",
       "2  2019-01-01  Crypto Market Update Jan.1: New Year, New Hope...   \n",
       "3  2019-01-02  Hackers Threaten to Dump 9/11 Related Insuranc...   \n",
       "4  2019-01-02  Marketing Was A Driving Force In The ICO Hype ...   \n",
       "\n",
       "                                          similarity  \\\n",
       "0  [-0.01071454118937254, 0.011403998360037804, 0...   \n",
       "1  [-0.008313984610140324, 0.015355568379163742, ...   \n",
       "2  [-0.0011497164377942681, -0.005909790750592947...   \n",
       "3  [0.0009691137238405645, 0.006849941331893206, ...   \n",
       "4  [-0.0020507564768195152, -0.001764271291904151...   \n",
       "\n",
       "                                              search  \n",
       "0  [-0.014798003248870373, 0.00944652408361435, 0...  \n",
       "1  [-0.01103475783020258, 0.0016785092884674668, ...  \n",
       "2  [-0.005611605476588011, -0.025839712470769882,...  \n",
       "3  [0.0014824277022853494, -0.0005108365439809859...  \n",
       "4  [-0.014102131128311157, -0.011523179709911346,...  "
      ]
     },
     "execution_count": 4,
     "metadata": {},
     "output_type": "execute_result"
    }
   ],
   "source": [
    "df_bitcoin_raw = pd.read_csv(BITCOIN_PATH)\n",
    "news = pd.read_csv(NEWS_EMBEDDINGS_PATH)\n",
    "news.head()"
   ]
  },
  {
   "cell_type": "code",
   "execution_count": 39,
   "metadata": {},
   "outputs": [
    {
     "data": {
      "text/html": [
       "<div>\n",
       "<style scoped>\n",
       "    .dataframe tbody tr th:only-of-type {\n",
       "        vertical-align: middle;\n",
       "    }\n",
       "\n",
       "    .dataframe tbody tr th {\n",
       "        vertical-align: top;\n",
       "    }\n",
       "\n",
       "    .dataframe thead th {\n",
       "        text-align: right;\n",
       "    }\n",
       "</style>\n",
       "<table border=\"1\" class=\"dataframe\">\n",
       "  <thead>\n",
       "    <tr style=\"text-align: right;\">\n",
       "      <th></th>\n",
       "      <th>Date</th>\n",
       "      <th>Headline</th>\n",
       "      <th>similarity</th>\n",
       "      <th>search</th>\n",
       "    </tr>\n",
       "  </thead>\n",
       "  <tbody>\n",
       "    <tr>\n",
       "      <th>0</th>\n",
       "      <td>2019-01-01</td>\n",
       "      <td>Darwin rugby league player uses bitcoin to buy...</td>\n",
       "      <td>[-0.01071454118937254, 0.011403998360037804, 0...</td>\n",
       "      <td>[-0.014798003248870373, 0.00944652408361435, 0...</td>\n",
       "    </tr>\n",
       "    <tr>\n",
       "      <th>1</th>\n",
       "      <td>2019-01-01</td>\n",
       "      <td>While Bitcoin ‘Died’ 90 Times In 2018, There A...</td>\n",
       "      <td>[-0.008313984610140324, 0.015355568379163742, ...</td>\n",
       "      <td>[-0.01103475783020258, 0.0016785092884674668, ...</td>\n",
       "    </tr>\n",
       "    <tr>\n",
       "      <th>2</th>\n",
       "      <td>2019-01-01</td>\n",
       "      <td>Crypto Market Update Jan.1: New Year, New Hope...</td>\n",
       "      <td>[-0.0011497164377942681, -0.005909790750592947...</td>\n",
       "      <td>[-0.005611605476588011, -0.025839712470769882,...</td>\n",
       "    </tr>\n",
       "    <tr>\n",
       "      <th>3</th>\n",
       "      <td>2019-01-02</td>\n",
       "      <td>Hackers Threaten to Dump 9/11 Related Insuranc...</td>\n",
       "      <td>[0.0009691137238405645, 0.006849941331893206, ...</td>\n",
       "      <td>[0.0014824277022853494, -0.0005108365439809859...</td>\n",
       "    </tr>\n",
       "    <tr>\n",
       "      <th>4</th>\n",
       "      <td>2019-01-02</td>\n",
       "      <td>Marketing Was A Driving Force In The ICO Hype ...</td>\n",
       "      <td>[-0.0020507564768195152, -0.001764271291904151...</td>\n",
       "      <td>[-0.014102131128311157, -0.011523179709911346,...</td>\n",
       "    </tr>\n",
       "  </tbody>\n",
       "</table>\n",
       "</div>"
      ],
      "text/plain": [
       "         Date                                           Headline  \\\n",
       "0  2019-01-01  Darwin rugby league player uses bitcoin to buy...   \n",
       "1  2019-01-01  While Bitcoin ‘Died’ 90 Times In 2018, There A...   \n",
       "2  2019-01-01  Crypto Market Update Jan.1: New Year, New Hope...   \n",
       "3  2019-01-02  Hackers Threaten to Dump 9/11 Related Insuranc...   \n",
       "4  2019-01-02  Marketing Was A Driving Force In The ICO Hype ...   \n",
       "\n",
       "                                          similarity  \\\n",
       "0  [-0.01071454118937254, 0.011403998360037804, 0...   \n",
       "1  [-0.008313984610140324, 0.015355568379163742, ...   \n",
       "2  [-0.0011497164377942681, -0.005909790750592947...   \n",
       "3  [0.0009691137238405645, 0.006849941331893206, ...   \n",
       "4  [-0.0020507564768195152, -0.001764271291904151...   \n",
       "\n",
       "                                              search  \n",
       "0  [-0.014798003248870373, 0.00944652408361435, 0...  \n",
       "1  [-0.01103475783020258, 0.0016785092884674668, ...  \n",
       "2  [-0.005611605476588011, -0.025839712470769882,...  \n",
       "3  [0.0014824277022853494, -0.0005108365439809859...  \n",
       "4  [-0.014102131128311157, -0.011523179709911346,...  "
      ]
     },
     "execution_count": 39,
     "metadata": {},
     "output_type": "execute_result"
    }
   ],
   "source": [
    "def repeat_if_less(df, expected_len=EXPECTED_NEWS_PER_DAY):\n",
    "    n_repeats = expected_len - len(df)\n",
    "\n",
    "    if n_repeats > 0:\n",
    "        extra_rows = [df.iloc[-1].values.tolist()] * n_repeats\n",
    "        extra_rows = pd.DataFrame(extra_rows, columns=df.columns)\n",
    "        df = pd.concat([df, extra_rows], ignore_index=True)\n",
    "    \n",
    "    return df\n",
    "\n",
    "news_temp = news.groupby(\"Date\").apply(repeat_if_less).reset_index(drop=True)\n",
    "news_temp.drop([\"Headline\"], axis=1, inplace=True)\n",
    "news_temp.columns = [\"date\", \"similarity\", \"search\"]\n",
    "news_temp.set_index(\"date\", inplace=True)\n",
    "news_temp.head()\n",
    "\n",
    "# news_temp.to_csv(\"data/processed/sentimental_3_per_day.csv\")"
   ]
  },
  {
   "cell_type": "code",
   "execution_count": 8,
   "metadata": {},
   "outputs": [],
   "source": [
    "# Prepare 1st dataframe phase for bitcoin data\n",
    "df_bitcoin = df_bitcoin_raw.sort_values(\"Date\")\n",
    "df_bitcoin.index = pd.to_datetime(df_bitcoin[\"Date\"].apply(lambda x: x.replace('/', '-')))\n",
    "df_bitcoin.drop(DONT_PREDICT + [\"Date\"], axis=1, inplace=True)\n",
    "\n",
    "# Renaming\n",
    "col_names = list(map(str.lower, df_bitcoin.columns))\n",
    "col_names[-2] = \"change\"\n",
    "col_names[-1] = \"next\"\n",
    "df_bitcoin.columns = col_names\n",
    "df_bitcoin.index.name = \"date\"\n",
    "\n",
    "df_bitcoin.head()\n",
    "df_bitcoin.to_csv(\"data/processed/bitcoin.csv\")"
   ]
  },
  {
   "cell_type": "code",
   "execution_count": null,
   "metadata": {},
   "outputs": [],
   "source": []
  }
 ],
 "metadata": {
  "interpreter": {
   "hash": "fadfe2e4490dc22c5fbdc259e65c41e5333ace2dda4f70e77ec3d2f6776ef4ff"
  },
  "kernelspec": {
   "display_name": "Python 3.7.9 ('venv': venv)",
   "language": "python",
   "name": "python3"
  },
  "language_info": {
   "codemirror_mode": {
    "name": "ipython",
    "version": 3
   },
   "file_extension": ".py",
   "mimetype": "text/x-python",
   "name": "python",
   "nbconvert_exporter": "python",
   "pygments_lexer": "ipython3",
   "version": "3.7.9"
  },
  "orig_nbformat": 4
 },
 "nbformat": 4,
 "nbformat_minor": 2
}
