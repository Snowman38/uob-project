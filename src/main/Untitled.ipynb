{
 "cells": [
  {
   "cell_type": "markdown",
   "id": "9869eb74",
   "metadata": {},
   "source": [
    "LSTM model Prediction"
   ]
  },
  {
   "cell_type": "code",
   "execution_count": 2,
   "metadata": {},
   "outputs": [],
   "source": [
    "import numpy as np\n",
    "import pandas as pd\n",
    "import matplotlib.pyplot as plt\n",
    "import math\n",
    "import time\n",
    "import datetime\n",
    "from dateutil import parser\n",
    "import matplotlib.dates as mdates\n",
    "import matplotlib.ticker as plticker\n",
    "\n",
    "from sklearn.preprocessing import MinMaxScaler\n",
    "from sklearn.metrics import mean_squared_error\n",
    "\n",
    "from keras.models import Sequential\n",
    "from keras.layers import Dense\n",
    "from keras.layers import LSTM\n",
    "\n",
    "#np.set_printoptions(threshold=np.inf)"
   ]
  },
  {
   "cell_type": "markdown",
   "id": "16d17231",
   "metadata": {},
   "source": [
    "Load DataSet"
   ]
  },
  {
   "cell_type": "code",
   "execution_count": 70,
   "id": "aa788d96",
   "metadata": {},
   "outputs": [
    {
     "data": {
      "text/html": [
       "<div>\n",
       "<style scoped>\n",
       "    .dataframe tbody tr th:only-of-type {\n",
       "        vertical-align: middle;\n",
       "    }\n",
       "\n",
       "    .dataframe tbody tr th {\n",
       "        vertical-align: top;\n",
       "    }\n",
       "\n",
       "    .dataframe thead th {\n",
       "        text-align: right;\n",
       "    }\n",
       "</style>\n",
       "<table border=\"1\" class=\"dataframe\">\n",
       "  <thead>\n",
       "    <tr style=\"text-align: right;\">\n",
       "      <th></th>\n",
       "      <th>Open</th>\n",
       "      <th>High</th>\n",
       "      <th>Low</th>\n",
       "      <th>Close</th>\n",
       "      <th>Volume</th>\n",
       "      <th>change (%)</th>\n",
       "      <th>change in next day (%)</th>\n",
       "      <th>NewsCount</th>\n",
       "      <th>Sentiment</th>\n",
       "    </tr>\n",
       "    <tr>\n",
       "      <th>Date</th>\n",
       "      <th></th>\n",
       "      <th></th>\n",
       "      <th></th>\n",
       "      <th></th>\n",
       "      <th></th>\n",
       "      <th></th>\n",
       "      <th></th>\n",
       "      <th></th>\n",
       "      <th></th>\n",
       "    </tr>\n",
       "  </thead>\n",
       "  <tbody>\n",
       "    <tr>\n",
       "      <th>2019/01/01</th>\n",
       "      <td>3746.713379</td>\n",
       "      <td>3850.913818</td>\n",
       "      <td>3707.231201</td>\n",
       "      <td>3843.520020</td>\n",
       "      <td>4.324201e+09</td>\n",
       "      <td>2.584</td>\n",
       "      <td>2.447</td>\n",
       "      <td>11</td>\n",
       "      <td>-1</td>\n",
       "    </tr>\n",
       "    <tr>\n",
       "      <th>2019/01/02</th>\n",
       "      <td>3849.216309</td>\n",
       "      <td>3947.981201</td>\n",
       "      <td>3817.409424</td>\n",
       "      <td>3943.409424</td>\n",
       "      <td>5.244857e+09</td>\n",
       "      <td>2.447</td>\n",
       "      <td>-2.399</td>\n",
       "      <td>35</td>\n",
       "      <td>0</td>\n",
       "    </tr>\n",
       "    <tr>\n",
       "      <th>2019/01/03</th>\n",
       "      <td>3931.048584</td>\n",
       "      <td>3935.685059</td>\n",
       "      <td>3826.222900</td>\n",
       "      <td>3836.741211</td>\n",
       "      <td>4.530215e+09</td>\n",
       "      <td>-2.399</td>\n",
       "      <td>0.670</td>\n",
       "      <td>51</td>\n",
       "      <td>13</td>\n",
       "    </tr>\n",
       "    <tr>\n",
       "      <th>2019/01/04</th>\n",
       "      <td>3832.040039</td>\n",
       "      <td>3865.934570</td>\n",
       "      <td>3783.853760</td>\n",
       "      <td>3857.717529</td>\n",
       "      <td>4.847965e+09</td>\n",
       "      <td>0.670</td>\n",
       "      <td>-0.176</td>\n",
       "      <td>29</td>\n",
       "      <td>3</td>\n",
       "    </tr>\n",
       "    <tr>\n",
       "      <th>2019/01/05</th>\n",
       "      <td>3851.973877</td>\n",
       "      <td>3904.903076</td>\n",
       "      <td>3836.900146</td>\n",
       "      <td>3845.194580</td>\n",
       "      <td>5.137610e+09</td>\n",
       "      <td>-0.176</td>\n",
       "      <td>6.259</td>\n",
       "      <td>17</td>\n",
       "      <td>4</td>\n",
       "    </tr>\n",
       "    <tr>\n",
       "      <th>...</th>\n",
       "      <td>...</td>\n",
       "      <td>...</td>\n",
       "      <td>...</td>\n",
       "      <td>...</td>\n",
       "      <td>...</td>\n",
       "      <td>...</td>\n",
       "      <td>...</td>\n",
       "      <td>...</td>\n",
       "      <td>...</td>\n",
       "    </tr>\n",
       "    <tr>\n",
       "      <th>2021/12/27</th>\n",
       "      <td>50802.609380</td>\n",
       "      <td>51956.328130</td>\n",
       "      <td>50499.468750</td>\n",
       "      <td>50640.417970</td>\n",
       "      <td>2.432435e+10</td>\n",
       "      <td>-0.319</td>\n",
       "      <td>-6.099</td>\n",
       "      <td>139</td>\n",
       "      <td>35</td>\n",
       "    </tr>\n",
       "    <tr>\n",
       "      <th>2021/12/28</th>\n",
       "      <td>50679.859380</td>\n",
       "      <td>50679.859380</td>\n",
       "      <td>47414.210940</td>\n",
       "      <td>47588.855470</td>\n",
       "      <td>3.343038e+10</td>\n",
       "      <td>-6.099</td>\n",
       "      <td>-2.476</td>\n",
       "      <td>170</td>\n",
       "      <td>36</td>\n",
       "    </tr>\n",
       "    <tr>\n",
       "      <th>2021/12/29</th>\n",
       "      <td>47623.871090</td>\n",
       "      <td>48119.742190</td>\n",
       "      <td>46201.496090</td>\n",
       "      <td>46444.710940</td>\n",
       "      <td>3.004923e+10</td>\n",
       "      <td>-2.476</td>\n",
       "      <td>1.479</td>\n",
       "      <td>163</td>\n",
       "      <td>31</td>\n",
       "    </tr>\n",
       "    <tr>\n",
       "      <th>2021/12/30</th>\n",
       "      <td>46490.605470</td>\n",
       "      <td>47879.964840</td>\n",
       "      <td>46060.312500</td>\n",
       "      <td>47178.125000</td>\n",
       "      <td>2.668649e+10</td>\n",
       "      <td>1.479</td>\n",
       "      <td>-1.829</td>\n",
       "      <td>134</td>\n",
       "      <td>22</td>\n",
       "    </tr>\n",
       "    <tr>\n",
       "      <th>2021/12/31</th>\n",
       "      <td>47169.371090</td>\n",
       "      <td>48472.527340</td>\n",
       "      <td>45819.953130</td>\n",
       "      <td>46306.445310</td>\n",
       "      <td>3.697417e+10</td>\n",
       "      <td>-1.829</td>\n",
       "      <td>2.969</td>\n",
       "      <td>149</td>\n",
       "      <td>44</td>\n",
       "    </tr>\n",
       "  </tbody>\n",
       "</table>\n",
       "<p>1096 rows × 9 columns</p>\n",
       "</div>"
      ],
      "text/plain": [
       "                    Open          High           Low         Close  \\\n",
       "Date                                                                 \n",
       "2019/01/01   3746.713379   3850.913818   3707.231201   3843.520020   \n",
       "2019/01/02   3849.216309   3947.981201   3817.409424   3943.409424   \n",
       "2019/01/03   3931.048584   3935.685059   3826.222900   3836.741211   \n",
       "2019/01/04   3832.040039   3865.934570   3783.853760   3857.717529   \n",
       "2019/01/05   3851.973877   3904.903076   3836.900146   3845.194580   \n",
       "...                  ...           ...           ...           ...   \n",
       "2021/12/27  50802.609380  51956.328130  50499.468750  50640.417970   \n",
       "2021/12/28  50679.859380  50679.859380  47414.210940  47588.855470   \n",
       "2021/12/29  47623.871090  48119.742190  46201.496090  46444.710940   \n",
       "2021/12/30  46490.605470  47879.964840  46060.312500  47178.125000   \n",
       "2021/12/31  47169.371090  48472.527340  45819.953130  46306.445310   \n",
       "\n",
       "                  Volume  change (%)  change in next day (%)  NewsCount  \\\n",
       "Date                                                                      \n",
       "2019/01/01  4.324201e+09       2.584                   2.447         11   \n",
       "2019/01/02  5.244857e+09       2.447                  -2.399         35   \n",
       "2019/01/03  4.530215e+09      -2.399                   0.670         51   \n",
       "2019/01/04  4.847965e+09       0.670                  -0.176         29   \n",
       "2019/01/05  5.137610e+09      -0.176                   6.259         17   \n",
       "...                  ...         ...                     ...        ...   \n",
       "2021/12/27  2.432435e+10      -0.319                  -6.099        139   \n",
       "2021/12/28  3.343038e+10      -6.099                  -2.476        170   \n",
       "2021/12/29  3.004923e+10      -2.476                   1.479        163   \n",
       "2021/12/30  2.668649e+10       1.479                  -1.829        134   \n",
       "2021/12/31  3.697417e+10      -1.829                   2.969        149   \n",
       "\n",
       "            Sentiment  \n",
       "Date                   \n",
       "2019/01/01         -1  \n",
       "2019/01/02          0  \n",
       "2019/01/03         13  \n",
       "2019/01/04          3  \n",
       "2019/01/05          4  \n",
       "...               ...  \n",
       "2021/12/27         35  \n",
       "2021/12/28         36  \n",
       "2021/12/29         31  \n",
       "2021/12/30         22  \n",
       "2021/12/31         44  \n",
       "\n",
       "[1096 rows x 9 columns]"
      ]
     },
     "execution_count": 70,
     "metadata": {},
     "output_type": "execute_result"
    }
   ],
   "source": [
    "df = pd.read_csv('../../Data/testData_2019_2021.csv',index_col=0)\n",
    "df = df.drop(['nextDay_prediction'], axis=1)\n",
    "df\n"
   ]
  },
  {
   "cell_type": "markdown",
   "id": "6b2cb983",
   "metadata": {},
   "source": [
    "DataSet Scalling"
   ]
  },
  {
   "cell_type": "code",
   "execution_count": 71,
   "id": "73a93a13",
   "metadata": {},
   "outputs": [
    {
     "name": "stdout",
     "output_type": "stream",
     "text": [
      "dataset.shape (1096, 9)\n",
      "Number of features 9\n"
     ]
    }
   ],
   "source": [
    "dataset = df\n",
    "dataset = dataset.astype('float32')\n",
    "scaler = MinMaxScaler(feature_range=(0, 1))\n",
    "dataset = scaler.fit_transform(dataset)\n",
    "print('dataset.shape', dataset.shape)\n",
    "num_of_features = len(df.columns)\n",
    "print('Number of features', num_of_features)"
   ]
  },
  {
   "cell_type": "code",
   "execution_count": 63,
   "id": "09a21f56",
   "metadata": {},
   "outputs": [
    {
     "data": {
      "text/plain": [
       "array([[0.00538341, 0.0064712 , 0.00501988, ..., 0.70795226, 0.04020101,\n",
       "        0.28712872],\n",
       "       [0.00698131, 0.00795628, 0.00676899, ..., 0.62139183, 0.16080402,\n",
       "        0.2970297 ],\n",
       "       [0.00825699, 0.00776815, 0.00690891, ..., 0.67621106, 0.24120604,\n",
       "        0.42574257],\n",
       "       ...,\n",
       "       [0.68937844, 0.6837615 , 0.67962795, ..., 0.6906616 , 0.8040201 ,\n",
       "        0.6039604 ],\n",
       "       [0.6717121 , 0.680093  , 0.67738664, ..., 0.6315733 , 0.65829146,\n",
       "        0.51485145],\n",
       "       [0.6822933 , 0.6891589 , 0.6735709 , ..., 0.71727633, 0.7336683 ,\n",
       "        0.7326733 ]], dtype=float32)"
      ]
     },
     "execution_count": 63,
     "metadata": {},
     "output_type": "execute_result"
    }
   ],
   "source": [
    "dataset"
   ]
  },
  {
   "cell_type": "markdown",
   "id": "2ad65ca7",
   "metadata": {},
   "source": [
    "Configuration"
   ]
  },
  {
   "cell_type": "code",
   "execution_count": 94,
   "id": "fa05acee",
   "metadata": {},
   "outputs": [],
   "source": [
    "expr_name = 'expr_1'\n",
    "look_back = 290 # 60 days \n",
    "lstm_layers = 32\n",
    "epochs=5\n",
    "batch_size=4"
   ]
  },
  {
   "cell_type": "code",
   "execution_count": 78,
   "id": "8f3b9876",
   "metadata": {},
   "outputs": [
    {
     "data": {
      "text/plain": [
       "6"
      ]
     },
     "execution_count": 78,
     "metadata": {},
     "output_type": "execute_result"
    }
   ],
   "source": [
    "pred_col = df.columns.get_loc('change in next day (%)')\n",
    "pred_col"
   ]
  },
  {
   "cell_type": "markdown",
   "id": "c7cc388a",
   "metadata": {},
   "source": [
    "spliting datasets into train and test"
   ]
  },
  {
   "cell_type": "code",
   "execution_count": 95,
   "id": "53fd7fa5",
   "metadata": {},
   "outputs": [
    {
     "name": "stdout",
     "output_type": "stream",
     "text": [
      "Training dataset length  767\n",
      "Testing dataset length  329\n",
      "look_back  290\n"
     ]
    }
   ],
   "source": [
    "train_size_percent = 0.70\n",
    "pred_col = df.columns.get_loc('change in next day (%)')\n",
    "\n",
    "# function to split the data\n",
    "def create_dataset(dataset, pred_col, look_back=1):\n",
    "  dataX, dataY = [], []\n",
    "  for i in range(len(dataset)-look_back-1):\n",
    "    a = dataset[i:(i+look_back), :]\n",
    "    # print(a)\n",
    "    dataX.append(a)\n",
    "    dataY.append(dataset[i + look_back, pred_col])\n",
    "  return np.array(dataX), np.array(dataY)\n",
    "\n",
    "\n",
    "train_size = int(len(dataset) * train_size_percent)\n",
    "test_size = len(dataset) - train_size\n",
    "train, test = dataset[0:train_size, :], dataset[train_size:len(dataset), :]\n",
    "\n",
    "trainX, trainY = create_dataset(train, pred_col, look_back=look_back)\n",
    "testX, testY = create_dataset(test, pred_col, look_back=look_back)\n",
    "# reshape input to be  [samples, time steps, features]\n",
    "trainX = np.reshape(trainX, (trainX.shape[0], look_back, num_of_features))\n",
    "testX = np.reshape(testX, (testX.shape[0],look_back, num_of_features))\n",
    "\n",
    "print('Training dataset length ', len(train))\n",
    "print('Testing dataset length ', len(test))\n",
    "print('look_back ', look_back)"
   ]
  },
  {
   "cell_type": "markdown",
   "id": "10332eed",
   "metadata": {},
   "source": [
    "Build the model and train"
   ]
  },
  {
   "cell_type": "code",
   "execution_count": 96,
   "id": "610808e7",
   "metadata": {},
   "outputs": [
    {
     "name": "stdout",
     "output_type": "stream",
     "text": [
      "Epoch 1/5\n",
      "84/84 [==============================] - 6s 51ms/step - loss: 0.0218 - val_loss: 0.0055\n",
      "Epoch 2/5\n",
      "84/84 [==============================] - 4s 47ms/step - loss: 0.0053 - val_loss: 0.0071\n",
      "Epoch 3/5\n",
      "84/84 [==============================] - 4s 46ms/step - loss: 0.0052 - val_loss: 0.0082\n",
      "Epoch 4/5\n",
      "84/84 [==============================] - 4s 47ms/step - loss: 0.0052 - val_loss: 0.0091\n",
      "Epoch 5/5\n",
      "84/84 [==============================] - 4s 47ms/step - loss: 0.0052 - val_loss: 0.0103\n"
     ]
    }
   ],
   "source": [
    "# create and fit the LSTM network\n",
    "\n",
    "model = Sequential()\n",
    "model.add(LSTM(lstm_layers, input_shape=(look_back,num_of_features)))\n",
    "model.add(Dense(1))\n",
    "model.compile(loss='mean_squared_error', optimizer='adam')\n",
    "history= model.fit(trainX, trainY,validation_split=0.30, epochs=epochs, batch_size=batch_size,shuffle=False)"
   ]
  },
  {
   "cell_type": "code",
   "execution_count": 97,
   "id": "1d75351d",
   "metadata": {},
   "outputs": [
    {
     "data": {
      "image/png": "[encoded data removed]",
      "text/plain": [
       "<Figure size 432x288 with 1 Axes>"
      ]
     },
     "metadata": {
      "needs_background": "light"
     },
     "output_type": "display_data"
    }
   ],
   "source": [
    "# Plot training\n",
    "plt.plot(history.history['loss'])\n",
    "plt.plot(history.history['val_loss'])\n",
    "plt.title('Model loss')\n",
    "plt.ylabel('Loss')\n",
    "plt.xlabel('Epoch')\n",
    "plt.legend(['training', 'validation'], loc='upper right')\n",
    "plt.show()"
   ]
  },
  {
   "cell_type": "code",
   "execution_count": 98,
   "id": "4c8d474c",
   "metadata": {},
   "outputs": [],
   "source": [
    "trainPredict = model.predict(trainX)\n",
    "testPredict = model.predict(testX)\n",
    "\n",
    "# Get something which has as many features as dataset\n",
    "trainPredict_extended = np.zeros((len(trainPredict),num_of_features))\n",
    "# Put the predictions there\n",
    "trainPredict_extended[:,pred_col] = trainPredict[:,0]\n",
    "# Inverse transform it and select the 3rd column.\n",
    "trainPredict = scaler.inverse_transform(trainPredict_extended) [:,pred_col]\n",
    "\n",
    "# Get something which has as many features as dataset\n",
    "testPredict_extended = np.zeros((len(testPredict),num_of_features))\n",
    "# Put the predictions there\n",
    "testPredict_extended[:,pred_col] = testPredict[:,0]\n",
    "# Inverse transform it and select the pred_col column.\n",
    "testPredict = scaler.inverse_transform(testPredict_extended)[:,pred_col] \n",
    "\n",
    "trainY_extended = np.zeros((len(trainY),num_of_features))\n",
    "trainY_extended[:,pred_col]=trainY\n",
    "trainY = scaler.inverse_transform(trainY_extended)[:,pred_col]\n",
    "\n",
    "testY_extended = np.zeros((len(testY),num_of_features))\n",
    "testY_extended[:,pred_col]=testY\n",
    "testY = scaler.inverse_transform(testY_extended)[:,pred_col]\n",
    "\n",
    "# calculate root mean squared error\n",
    "trainScore_RMSE = math.sqrt(mean_squared_error(trainY, trainPredict))\n",
    "testScore_RMSE = math.sqrt(mean_squared_error(testY, testPredict))\n",
    "\n",
    "# calculate absolute mean error\n",
    "trainScore_MAE = np.sum(np.absolute(trainY - trainPredict))/len(trainY)\n",
    "testScore_MAE = np.sum(np.absolute(testY - testPredict))/len(testY)"
   ]
  },
  {
   "cell_type": "code",
   "execution_count": 99,
   "id": "7e948ab9",
   "metadata": {},
   "outputs": [
    {
     "data": {
      "image/png": "[encoded data removed]",
      "text/plain": [
       "<Figure size 1080x504 with 1 Axes>"
      ]
     },
     "metadata": {
      "needs_background": "light"
     },
     "output_type": "display_data"
    }
   ],
   "source": [
    "# shift train predictions for plotting\n",
    "trainPredictPlot = np.empty_like(dataset)\n",
    "trainPredictPlot[:, :] = np.nan\n",
    "trainPredictPlot[look_back:len(trainPredict)+look_back, pred_col] = trainPredict\n",
    "\n",
    "# sshift test predictions for plotting\n",
    "testPredictPlot = np.empty_like(dataset)\n",
    "testPredictPlot[:, :] = np.nan\n",
    "testPredictPlot[len(trainPredict)+(look_back*2)+1:len(dataset)-1, pred_col] = testPredict\n",
    "\n",
    "# contruct pandas dataframe for plotting\n",
    "time_df = pd.DataFrame(df.index)\n",
    "time_df['Actual'] = scaler.inverse_transform(dataset)[:,pred_col]\n",
    "df1 = pd.DataFrame(trainPredictPlot[:,pred_col],columns=['Train'])\n",
    "df2 = pd.DataFrame(testPredictPlot[:,pred_col],columns=['Test'])\n",
    "time_df2 = pd.concat([time_df, df1, df2], axis=1, sort=False)\n",
    "time_df2.set_index('Date',inplace=True)\n",
    "\n",
    "# plot the output\n",
    "fig, ax = plt.subplots(figsize=(15,7))\n",
    "time_df2.plot(ax=ax,rot=90,alpha=0.7)\n",
    "plt.xlabel('Timestamp')\n",
    "plt.ylabel('Bitcoin Value')\n",
    "plt.title('Bitcoin Price Prediction')\n",
    "plt.savefig(expr_name + '.png',bbox_inches = \"tight\")"
   ]
  },
  {
   "cell_type": "code",
   "execution_count": 45,
   "id": "e80c0ec4",
   "metadata": {},
   "outputs": [
    {
     "name": "stdout",
     "output_type": "stream",
     "text": [
      "--------------------------------------------------\n",
      "Experiment name: expr_1\n",
      "--------------------------------------------------\n",
      "look_back days: 2.5\n",
      "lstm_layers: 32\n",
      "epochs: 5\n",
      "batch_size: 128\n",
      "dataset features ['Open', 'High', 'Low', 'Close', 'Volume', 'change (%)', 'change in next day (%)', 'NewsCount', 'Sentiment', 'nextDay_prediction']\n",
      "--------------------------------------------------\n",
      "Train Score: 6.09 RMSE\n",
      "Test Score: 4.97 RMSE\n",
      "--------------------------------------------------\n",
      "Train Score: 5.06 MAE\n",
      "Test Score: 4.38 MAE\n",
      "--------------------------------------------------\n",
      "Model summary:\n",
      "Model: \"sequential\"\n",
      "_________________________________________________________________\n",
      " Layer (type)                Output Shape              Param #   \n",
      "=================================================================\n",
      " lstm (LSTM)                 (None, 32)                5376      \n",
      "                                                                 \n",
      " dense (Dense)               (None, 1)                 33        \n",
      "                                                                 \n",
      "=================================================================\n",
      "Total params: 5,409\n",
      "Trainable params: 5,409\n",
      "Non-trainable params: 0\n",
      "_________________________________________________________________\n"
     ]
    }
   ],
   "source": [
    "print('-' * 50)\n",
    "print('Experiment name:', expr_name)\n",
    "\n",
    "print('-' * 50)\n",
    "print('look_back days:', look_back/24)\n",
    "print('lstm_layers:', lstm_layers)\n",
    "print('epochs:', epochs)\n",
    "print('batch_size:', batch_size)\n",
    "print('dataset features', list(org_df.columns))\n",
    "\n",
    "\n",
    "print('-' * 50)\n",
    "print('Train Score: %.2f RMSE' % (trainScore_RMSE))\n",
    "print('Test Score: %.2f RMSE' % (testScore_RMSE))\n",
    "\n",
    "print('-' * 50)\n",
    "print('Train Score: %.2f MAE' % (trainScore_MAE))\n",
    "print('Test Score: %.2f MAE' % (testScore_MAE))\n",
    "\n",
    "print('-' * 50)\n",
    "print('Model summary:')\n",
    "model.summary()"
   ]
  },
  {
   "cell_type": "code",
   "execution_count": null,
   "id": "0ff066df",
   "metadata": {},
   "outputs": [],
   "source": []
  }
 ],
 "metadata": {
  "interpreter": {
   "hash": "aadae092c2ccce02241903eb00013032cfcda01a6700d12e3ae101f1192645be"
  },
  "kernelspec": {
   "display_name": "Python 3.7.9 ('venv': venv)",
   "language": "python",
   "name": "python3"
  },
  "language_info": {
   "codemirror_mode": {
    "name": "ipython",
    "version": 3
   },
   "file_extension": ".py",
   "mimetype": "text/x-python",
   "name": "python",
   "nbconvert_exporter": "python",
   "pygments_lexer": "ipython3",
   "version": "3.7.9"
  }
 },
 "nbformat": 4,
 "nbformat_minor": 5
}
