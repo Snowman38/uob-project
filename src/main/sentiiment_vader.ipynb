{
 "cells": [
  {
   "cell_type": "code",
   "execution_count": 2,
   "metadata": {},
   "outputs": [],
   "source": [
    "# import SentimentIntensityAnalyzer class\n",
    "# from vaderSentiment.vaderSentiment module.\n",
    "import pandas as pd\n",
    "from vaderSentiment.vaderSentiment import SentimentIntensityAnalyzer"
   ]
  },
  {
   "cell_type": "code",
   "execution_count": 6,
   "metadata": {},
   "outputs": [],
   "source": [
    "df=pd.read_csv('../../Data/Sentiment/sentimental_flair_2019-2021.csv')\n",
    "data = df[\"Headline\"]\n",
    "sentiment_vader = []\n",
    "\n",
    "for sentence in df['Headline']:\n",
    "    \n",
    "    # Create a SentimentIntensityAnalyzer object.\n",
    "    sid_obj = SentimentIntensityAnalyzer()\n",
    " \n",
    "    # polarity_scores method of SentimentIntensityAnalyzer\n",
    "    # object gives a sentiment dictionary.\n",
    "    # which contains pos, neg, neu, and compound scores.\n",
    "    sentiment_dict = sid_obj.polarity_scores(sentence)\n",
    "    \n",
    "    # decide sentiment as positive, negative and neutral\n",
    "    if sentiment_dict['compound'] >= 0.00 :\n",
    "        sentiment_vader.append(\"POSITIVE\")\n",
    "        #print(\"Positive\")\n",
    " \n",
    "    else: #sentiment_dict['compound'] <= - 0.01 :\n",
    "         sentiment_vader.append(\"NEGATIVE\")\n",
    "        #print(\"Negative\")\n",
    " \n",
    "    # else :\n",
    "    #     sentiment_vader.append(\"Neutral\")\n",
    "    #     #print(\"Neutral\")"
   ]
  },
  {
   "cell_type": "code",
   "execution_count": 7,
   "metadata": {},
   "outputs": [],
   "source": [
    "df[\"Sentiment_vader\"] = sentiment_vader\n",
    "df.to_csv('../../Data/Sentiment/sentimental_2019-2021.csv')"
   ]
  },
  {
   "cell_type": "markdown",
   "metadata": {},
   "source": [
    "Check Accuracy"
   ]
  },
  {
   "cell_type": "code",
   "execution_count": 2,
   "metadata": {},
   "outputs": [
    {
     "name": "stdout",
     "output_type": "stream",
     "text": [
      "0.35406698564593303\n"
     ]
    }
   ],
   "source": [
    "df=pd.read_csv('../../Data/Training/news_val_2021Jan_noN.csv')\n",
    "data = df[\"Headline\"]\n",
    "sentiment_vader = []\n",
    "\n",
    "for sentence in df['Headline']:\n",
    "    \n",
    "    # Create a SentimentIntensityAnalyzer object.\n",
    "    sid_obj = SentimentIntensityAnalyzer()\n",
    " \n",
    "    # polarity_scores method of SentimentIntensityAnalyzer\n",
    "    # object gives a sentiment dictionary.\n",
    "    # which contains pos, neg, neu, and compound scores.\n",
    "    sentiment_dict = sid_obj.polarity_scores(sentence)\n",
    "    \n",
    "    # decide sentiment as positive, negative and neutral\n",
    "    if sentiment_dict['compound'] >= 0.00 :\n",
    "        sentiment_vader.append(\"POSITIVE\")\n",
    "        #print(\"Positive\")\n",
    " \n",
    "    else: # sentiment_dict['compound'] <= - 0.05 :\n",
    "         sentiment_vader.append(\"NEGATIVE\")\n",
    "        #print(\"Negative\")\n",
    " \n",
    "    # else :\n",
    "    #     sentiment_vader.append(\"Neutral\")\n",
    "    #     #print(\"Neutral\")\n",
    "\n",
    "df[\"sentiment_vader\"] = sentiment_vader\n",
    "df.to_csv(\"../../Data/Training/news_val_2021Jan_noN.csv\")\n",
    "\n",
    "i = 0\n",
    "for index, row in df.iterrows():\n",
    "    if row['Sentiment'] != row['sentiment_vader']:\n",
    "        i = i + 1\n",
    "\n",
    "accuracy = (209 - i)/209\n",
    "print(accuracy)"
   ]
  },
  {
   "cell_type": "code",
   "execution_count": null,
   "metadata": {},
   "outputs": [],
   "source": [
    "i = 0\n",
    "for index, row in df.iterrows():\n",
    "    if row['Sentiment'] != row['sentiment_vader']:\n",
    "        i = i + 1\n",
    "\n",
    "accuracy = (209 - i)/209\n",
    "print(accuracy)"
   ]
  },
  {
   "cell_type": "markdown",
   "metadata": {},
   "source": [
    "Conbine same day news to one line"
   ]
  },
  {
   "cell_type": "code",
   "execution_count": 24,
   "metadata": {},
   "outputs": [],
   "source": [
    "df=pd.read_csv('../../Data/Training/news_val_2021Jan_noN.csv')\n",
    "\n",
    "def reformatdate(df):\n",
    "    newformat = []\n",
    "    for index in df:\n",
    "        newformat.append(pd.to_datetime(index).strftime('%d-%m-%y')) \n",
    "    return newformat\n",
    "\n",
    "df['Published_date'] = reformatdate(df['Published_date'])\n",
    "daynews = df.groupby(['Published_date'])['Headline'].apply(' '.join).reset_index()"
   ]
  },
  {
   "cell_type": "code",
   "execution_count": 29,
   "metadata": {},
   "outputs": [],
   "source": [
    "sentiment_vader = []\n",
    "for sentence in daynews['Headline']:\n",
    "    \n",
    "    # Create a SentimentIntensityAnalyzer object.\n",
    "    sid_obj = SentimentIntensityAnalyzer()\n",
    " \n",
    "    # polarity_scores method of SentimentIntensityAnalyzer\n",
    "    # object gives a sentiment dictionary.\n",
    "    # which contains pos, neg, neu, and compound scores.\n",
    "    sentiment_dict = sid_obj.polarity_scores(sentence)\n",
    "    \n",
    "    # decide sentiment as positive, negative and neutral\n",
    "    if sentiment_dict['compound'] >= 0.00 :\n",
    "        sentiment_vader.append(\"POSITIVE\")\n",
    "        #print(\"Positive\")\n",
    " \n",
    "    else: # sentiment_dict['compound'] <= - 0.05 :\n",
    "         sentiment_vader.append(\"NEGATIVE\")\n",
    "        #print(\"Negative\")\n",
    " \n",
    "    # else :\n",
    "    #     sentiment_vader.append(\"Neutral\")\n",
    "    #     #print(\"Neutral\")\n",
    "\n",
    "daynews[\"sentiment_vader\"] = sentiment_vader\n",
    "daynews.to_csv(\"../../Data/Sentiment/vader_by_day.csv\")\n"
   ]
  },
  {
   "cell_type": "code",
   "execution_count": null,
   "metadata": {},
   "outputs": [],
   "source": []
  }
 ],
 "metadata": {
  "interpreter": {
   "hash": "aadae092c2ccce02241903eb00013032cfcda01a6700d12e3ae101f1192645be"
  },
  "kernelspec": {
   "display_name": "Python 3.7.9 ('venv': venv)",
   "language": "python",
   "name": "python3"
  },
  "language_info": {
   "codemirror_mode": {
    "name": "ipython",
    "version": 3
   },
   "file_extension": ".py",
   "mimetype": "text/x-python",
   "name": "python",
   "nbconvert_exporter": "python",
   "pygments_lexer": "ipython3",
   "version": "3.7.9"
  },
  "orig_nbformat": 4
 },
 "nbformat": 4,
 "nbformat_minor": 2
}
