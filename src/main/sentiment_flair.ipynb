{
 "cells": [
  {
   "cell_type": "markdown",
   "metadata": {},
   "source": [
    "# Sentimental analysis using flair"
   ]
  },
  {
   "cell_type": "code",
   "execution_count": 1,
   "metadata": {},
   "outputs": [],
   "source": [
    "import pandas as pd\n",
    "import flair"
   ]
  },
  {
   "cell_type": "code",
   "execution_count": 4,
   "metadata": {},
   "outputs": [],
   "source": [
    "df=pd.read_csv('../../Data/News/news2019-2021.csv')"
   ]
  },
  {
   "cell_type": "code",
   "execution_count": 5,
   "metadata": {},
   "outputs": [
    {
     "name": "stdout",
     "output_type": "stream",
     "text": [
      "2022-03-24 05:23:37,209 loading file C:\\Users\\Yuji\\.flair\\models\\sentiment-en-mix-distillbert_4.pt\n"
     ]
    }
   ],
   "source": [
    "model = flair.models.TextClassifier.load('en-sentiment') #load models"
   ]
  },
  {
   "cell_type": "code",
   "execution_count": 7,
   "metadata": {},
   "outputs": [],
   "source": [
    "sentiment = []\n",
    "confidence = []\n",
    "\n",
    "for sentence in df['Headline']:\n",
    "    if sentence.strip() == \"\":\n",
    "        sentiment.append(\"\")\n",
    "        confidence.append(\"\")\n",
    "    else:\n",
    "        sample = flair.data.Sentence(sentence)\n",
    "        model.predict(sample)\n",
    "        \n",
    "        sentiment.append(sample.labels[0].value)\n",
    "        confidence.append(sample.labels[0].score)"
   ]
  },
  {
   "cell_type": "code",
   "execution_count": 14,
   "metadata": {},
   "outputs": [
    {
     "data": {
      "text/html": [
       "<div>\n",
       "<style scoped>\n",
       "    .dataframe tbody tr th:only-of-type {\n",
       "        vertical-align: middle;\n",
       "    }\n",
       "\n",
       "    .dataframe tbody tr th {\n",
       "        vertical-align: top;\n",
       "    }\n",
       "\n",
       "    .dataframe thead th {\n",
       "        text-align: right;\n",
       "    }\n",
       "</style>\n",
       "<table border=\"1\" class=\"dataframe\">\n",
       "  <thead>\n",
       "    <tr style=\"text-align: right;\">\n",
       "      <th></th>\n",
       "      <th>Published_date</th>\n",
       "      <th>Headline</th>\n",
       "    </tr>\n",
       "  </thead>\n",
       "  <tbody>\n",
       "    <tr>\n",
       "      <th>0</th>\n",
       "      <td>Fri, 01 Jan 2021 08:00:00 GMT</td>\n",
       "      <td>Bitcoin hits alltime high against gold as have...</td>\n",
       "    </tr>\n",
       "    <tr>\n",
       "      <th>1</th>\n",
       "      <td>Fri, 01 Jan 2021 08:00:00 GMT</td>\n",
       "      <td>The Accused Fraudster Behind the Bitcoin Boom</td>\n",
       "    </tr>\n",
       "    <tr>\n",
       "      <th>2</th>\n",
       "      <td>Fri, 01 Jan 2021 08:00:00 GMT</td>\n",
       "      <td>Bitcoin supply squeeze heats up as Grayscale b...</td>\n",
       "    </tr>\n",
       "    <tr>\n",
       "      <th>3</th>\n",
       "      <td>Fri, 01 Jan 2021 09:13:19 GMT</td>\n",
       "      <td>Best Ways to Buy Bitcoin on Crypto.com</td>\n",
       "    </tr>\n",
       "    <tr>\n",
       "      <th>4</th>\n",
       "      <td>Fri, 01 Jan 2021 08:00:00 GMT</td>\n",
       "      <td>'Noxious Poison'  Bitcoin's Market Cap Surpass...</td>\n",
       "    </tr>\n",
       "  </tbody>\n",
       "</table>\n",
       "</div>"
      ],
      "text/plain": [
       "                  Published_date  \\\n",
       "0  Fri, 01 Jan 2021 08:00:00 GMT   \n",
       "1  Fri, 01 Jan 2021 08:00:00 GMT   \n",
       "2  Fri, 01 Jan 2021 08:00:00 GMT   \n",
       "3  Fri, 01 Jan 2021 09:13:19 GMT   \n",
       "4  Fri, 01 Jan 2021 08:00:00 GMT   \n",
       "\n",
       "                                            Headline  \n",
       "0  Bitcoin hits alltime high against gold as have...  \n",
       "1     The Accused Fraudster Behind the Bitcoin Boom   \n",
       "2  Bitcoin supply squeeze heats up as Grayscale b...  \n",
       "3            Best Ways to Buy Bitcoin on Crypto.com   \n",
       "4  'Noxious Poison'  Bitcoin's Market Cap Surpass...  "
      ]
     },
     "execution_count": 14,
     "metadata": {},
     "output_type": "execute_result"
    }
   ],
   "source": [
    "df.head()"
   ]
  },
  {
   "cell_type": "code",
   "execution_count": 8,
   "metadata": {},
   "outputs": [],
   "source": [
    "df[\"Sentiment_flair\"] = sentiment\n",
    "df[\"Confidence_flair\"] = confidence"
   ]
  },
  {
   "cell_type": "code",
   "execution_count": 16,
   "metadata": {},
   "outputs": [],
   "source": [
    "data = df[\"Headline\"]\n",
    "data.replace(\"[^a-zA-Z]\",\" \",regex=True, inplace=True)\n",
    "\n",
    "sentiment_removal = []\n",
    "confidence_removal = []\n",
    "\n",
    "for sentence in data:\n",
    "    if sentence.strip() == \"\":\n",
    "        sentiment_removal.append(\"\")\n",
    "        confidence_removal.append(\"\")\n",
    "    else:\n",
    "        sample = flair.data.Sentence(sentence)\n",
    "        model.predict(sample)\n",
    "        \n",
    "        sentiment_removal.append(sample.labels[0].value)\n",
    "        confidence_removal.append(sample.labels[0].score)"
   ]
  },
  {
   "cell_type": "code",
   "execution_count": 17,
   "metadata": {},
   "outputs": [],
   "source": [
    "df[\"sentiment_removal\"] = sentiment_removal\n",
    "df[\"confidence_removal\"] = confidence_removal"
   ]
  },
  {
   "cell_type": "code",
   "execution_count": 10,
   "metadata": {},
   "outputs": [],
   "source": [
    "df.to_csv('../../Data/Sentiment/sentimental_flair_2019-2021.csv')"
   ]
  },
  {
   "cell_type": "code",
   "execution_count": 28,
   "metadata": {},
   "outputs": [],
   "source": [
    "df = pd.read_csv('../../Data/sentimental_result.csv', encoding = 'ISO-8859-1')\n",
    "different = []\n",
    "\n",
    "for row in df.iterrows():\n",
    "    if row[1][4] != row[1][6]:\n",
    "        different.append([row[1][1], row[1][3], row[1][4], row[1][5], row[1][6], row[1][7]]) \n"
   ]
  },
  {
   "cell_type": "markdown",
   "metadata": {},
   "source": [
    "different"
   ]
  },
  {
   "cell_type": "code",
   "execution_count": 29,
   "metadata": {},
   "outputs": [],
   "source": [
    "df_sa = pd.DataFrame(different)\n",
    "headerList = ['', 'Headline', 'sentiment', 'confidence', 'sentiment_removal', 'confidence_removal']\n",
    "df_sa.to_csv(\"df_sa.csv\", header=headerList, index=False)"
   ]
  },
  {
   "cell_type": "code",
   "execution_count": 35,
   "metadata": {},
   "outputs": [
    {
     "name": "stderr",
     "output_type": "stream",
     "text": [
      "c:\\Users\\Yuji\\Desktop\\yxf965\\venv\\lib\\site-packages\\pandas\\core\\indexing.py:1732: SettingWithCopyWarning: \n",
      "A value is trying to be set on a copy of a slice from a DataFrame\n",
      "\n",
      "See the caveats in the documentation: https://pandas.pydata.org/pandas-docs/stable/user_guide/indexing.html#returning-a-view-versus-a-copy\n",
      "  self._setitem_single_block(indexer, value, name)\n"
     ]
    }
   ],
   "source": [
    "import pandas as pd\n",
    "df1=pd.read_csv('../../Data/sentimental_result.csv', encoding = \"ISO-8859-1\")\n",
    "df2=pd.read_csv('df_sa.csv', encoding = \"ISO-8859-1\")\n",
    "cond = df1['num'].isin(df2['num'])\n",
    "df1['sentiment'].loc[df1[cond].index] = 'NEUTRAL'\n",
    "df4=pd.read_csv('../../Data/sentimental_result.csv', encoding = \"ISO-8859-1\")\n",
    "df4['SENTIMENTAL'] = df1['sentiment']\n",
    "df4.to_csv('final_table.csv')"
   ]
  },
  {
   "cell_type": "markdown",
   "metadata": {},
   "source": [
    "test accuracy with the trianing data"
   ]
  },
  {
   "cell_type": "code",
   "execution_count": 37,
   "metadata": {},
   "outputs": [
    {
     "name": "stdout",
     "output_type": "stream",
     "text": [
      "2022-03-19 01:31:03,532 loading file /Users/yujif/.flair/models/sentiment-en-mix-distillbert_4.pt\n",
      "0.40669856459330145\n"
     ]
    }
   ],
   "source": [
    "df=pd.read_csv('../../Data/Training/news_val_2021Jan_noN.csv')\n",
    "model = flair.models.TextClassifier.load('en-sentiment') #load models\n",
    "\n",
    "sentiment = []\n",
    "confidence = []\n",
    "\n",
    "for sentence in df['Headline']:\n",
    "    if sentence.strip() == \"\":\n",
    "        sentiment.append(\"\")\n",
    "        confidence.append(\"\")\n",
    "    else:\n",
    "        sample = flair.data.Sentence(sentence)\n",
    "        model.predict(sample)\n",
    "        \n",
    "        sentiment.append(sample.labels[0].value)\n",
    "        confidence.append(sample.labels[0].score)\n",
    "\n",
    "df[\"Sentiment_Flair\"] = sentiment\n",
    "df[\"Confidence_Flair\"] = confidence\n",
    "\n",
    "df.to_csv(\"../../Data/Training/news_val_2021Jan_noN.csv\")\n",
    "\n",
    "i = 0\n",
    "for index, row in df.iterrows():\n",
    "    if row['Sentiment'] != row['sentiment_Flair']:\n",
    "        i = i + 1\n",
    "\n",
    "accuracy = (209 - i)/209\n",
    "print(accuracy)"
   ]
  }
 ],
 "metadata": {
  "interpreter": {
   "hash": "773e2e95a56361b16c31e49ea7ed0cbe785603c73543d3e2b40937fbbadd3688"
  },
  "kernelspec": {
   "display_name": "Python 3.9.2 64-bit ('virtualenv': conda)",
   "language": "python",
   "name": "python3"
  },
  "language_info": {
   "codemirror_mode": {
    "name": "ipython",
    "version": 3
   },
   "file_extension": ".py",
   "mimetype": "text/x-python",
   "name": "python",
   "nbconvert_exporter": "python",
   "pygments_lexer": "ipython3",
   "version": "3.7.9"
  },
  "orig_nbformat": 4
 },
 "nbformat": 4,
 "nbformat_minor": 2
}
