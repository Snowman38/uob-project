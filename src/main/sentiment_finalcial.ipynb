{
 "cells": [
  {
   "cell_type": "code",
   "execution_count": 3,
   "metadata": {},
   "outputs": [],
   "source": [
    "import numpy as np\n",
    "import pandas as pd\n",
    "\n",
    "from tensorflow.keras.preprocessing.text import Tokenizer\n",
    "from tensorflow.keras.preprocessing.sequence import pad_sequences\n",
    "from sklearn.model_selection import train_test_split\n",
    "from tensorflow.python.client import device_lib \n",
    "\n",
    "import tensorflow as tf"
   ]
  },
  {
   "cell_type": "code",
   "execution_count": 52,
   "metadata": {},
   "outputs": [],
   "source": [
    "data = pd.read_csv('../../Data/Training/finalcial_training_dataset_4837.csv', names=['Label', 'Text'], encoding='latin-1')"
   ]
  },
  {
   "cell_type": "code",
   "execution_count": 35,
   "metadata": {},
   "outputs": [],
   "source": [
    "def get_sequences(texts):\n",
    "    tokenizer = Tokenizer()\n",
    "    tokenizer.fit_on_texts(texts)\n",
    "    \n",
    "    sequences = tokenizer.texts_to_sequences(texts)\n",
    "    print(\"Vocab length:\", len(tokenizer.word_index) + 1)\n",
    "    \n",
    "    max_seq_length = np.max(list(map(lambda x: len(x), sequences)))\n",
    "    print(\"Maximum sequence length:\", max_seq_length)\n",
    "    \n",
    "    sequences = pad_sequences(sequences, maxlen=max_seq_length, padding='post')\n",
    "    \n",
    "    return sequences"
   ]
  },
  {
   "cell_type": "code",
   "execution_count": 56,
   "metadata": {},
   "outputs": [],
   "source": [
    "def preprocess_inputs(df):\n",
    "    df = df.copy()\n",
    "    \n",
    "    sequences = get_sequences(df['Text'])\n",
    "    \n",
    "    label_mapping = {\n",
    "        'negative': 0,\n",
    "        'neutral': 1,\n",
    "        'positive': 2\n",
    "    }\n",
    "    \n",
    "    y = df['Label'].replace(label_mapping)\n",
    "    \n",
    "    train_sequences, test_sequences, y_train, y_test = train_test_split(sequences, y, train_size=0.958, shuffle=False)\n",
    "    \n",
    "    return train_sequences, test_sequences, y_train, y_test"
   ]
  },
  {
   "cell_type": "code",
   "execution_count": 54,
   "metadata": {},
   "outputs": [
    {
     "name": "stdout",
     "output_type": "stream",
     "text": [
      "Vocab length: 10561\n",
      "Maximum sequence length: 71\n"
     ]
    }
   ],
   "source": [
    "train_sequences, test_sequences, y_train, y_test = preprocess_inputs(data)"
   ]
  },
  {
   "cell_type": "code",
   "execution_count": null,
   "metadata": {},
   "outputs": [],
   "source": [
    "inputs = tf.keras.Input(shape=(train_sequences.shape[1],))\n",
    "x = tf.keras.layers.Embedding(\n",
    "    input_dim=10123,\n",
    "    output_dim=128,\n",
    "    input_length=train_sequences.shape[1]\n",
    ")(inputs)\n",
    "x = tf.keras.layers.GRU(256, return_sequences=True, activation='tanh')(x)\n",
    "x = tf.keras.layers.Flatten()(x)\n",
    "outputs = tf.keras.layers.Dense(3, activation='softmax')(x)\n",
    "\n",
    "model = tf.keras.Model(inputs=inputs, outputs=outputs)\n",
    "\n",
    "model.compile(\n",
    "    optimizer='adam',\n",
    "    loss='sparse_categorical_crossentropy',\n",
    "    metrics=['accuracy']\n",
    ")\n",
    "\n",
    "history = model.fit(\n",
    "    train_sequences,\n",
    "    y_train,\n",
    "    validation_split=0.2,\n",
    "    batch_size=32,\n",
    "    epochs=100,\n",
    "    callbacks=[\n",
    "        tf.keras.callbacks.EarlyStopping(\n",
    "            monitor='val_loss',\n",
    "            patience=3,\n",
    "            restore_best_weights=True\n",
    "        )\n",
    "    ]\n",
    ")"
   ]
  },
  {
   "cell_type": "code",
   "execution_count": null,
   "metadata": {},
   "outputs": [],
   "source": [
    "results = model.evaluate(test_sequences, y_test, verbose=0)\n",
    "\n",
    "print(\"    Test Loss: {:.5f}\".format(results[0]))\n",
    "print(\"Test Accuracy: {:.2f}%\".format(results[1] * 100))"
   ]
  },
  {
   "cell_type": "code",
   "execution_count": 36,
   "metadata": {},
   "outputs": [
    {
     "name": "stdout",
     "output_type": "stream",
     "text": [
      "Vocab length: 1024\n",
      "Maximum sequence length: 22\n"
     ]
    }
   ],
   "source": [
    "valdata = pd.read_csv('../../Data/Training/news_val_2021Jan.csv', names=['Sentiment', 'Headline'])\n",
    "\n",
    "val_sequences = get_sequences(valdata['Headline'])\n",
    "\n",
    "label_mapping = {\n",
    "    'negative': 0,\n",
    "    'n': 1,\n",
    "    'positive': 2\n",
    "}\n",
    "\n",
    "val_senitment = valdata['Sentiment'].replace(label_mapping)\n",
    "\n"
   ]
  },
  {
   "cell_type": "code",
   "execution_count": null,
   "metadata": {},
   "outputs": [],
   "source": []
  }
 ],
 "metadata": {
  "interpreter": {
   "hash": "aadae092c2ccce02241903eb00013032cfcda01a6700d12e3ae101f1192645be"
  },
  "kernelspec": {
   "display_name": "Python 3.7.9 ('venv': venv)",
   "language": "python",
   "name": "python3"
  },
  "language_info": {
   "codemirror_mode": {
    "name": "ipython",
    "version": 3
   },
   "file_extension": ".py",
   "mimetype": "text/x-python",
   "name": "python",
   "nbconvert_exporter": "python",
   "pygments_lexer": "ipython3",
   "version": "3.7.9"
  },
  "orig_nbformat": 4
 },
 "nbformat": 4,
 "nbformat_minor": 2
}
