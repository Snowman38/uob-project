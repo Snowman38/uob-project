{
 "cells": [
  {
   "cell_type": "code",
   "execution_count": 2,
   "metadata": {},
   "outputs": [],
   "source": [
    "import pandas as pd\n",
    "from pygooglenews import GoogleNews\n",
    "from datetime import date, timedelta"
   ]
  },
  {
   "cell_type": "markdown",
   "metadata": {},
   "source": [
    "- Get the Crypto News using API"
   ]
  },
  {
   "cell_type": "code",
   "execution_count": 50,
   "metadata": {},
   "outputs": [
    {
     "name": "stderr",
     "output_type": "stream",
     "text": [
      "c:\\Users\\Yuji\\Desktop\\yxf965\\venv\\lib\\site-packages\\dateparser\\date_parser.py:37: PytzUsageWarning: The localize method is no longer necessary, as this time zone supports the fold attribute (PEP 495). For more details on migrating to a PEP 495-compliant implementation, see https://pytz-deprecation-shim.readthedocs.io/en/latest/migration.html\n",
      "  date_obj = stz.localize(date_obj)\n"
     ]
    },
    {
     "data": {
      "text/html": [
       "<div>\n",
       "<style scoped>\n",
       "    .dataframe tbody tr th:only-of-type {\n",
       "        vertical-align: middle;\n",
       "    }\n",
       "\n",
       "    .dataframe tbody tr th {\n",
       "        vertical-align: top;\n",
       "    }\n",
       "\n",
       "    .dataframe thead th {\n",
       "        text-align: right;\n",
       "    }\n",
       "</style>\n",
       "<table border=\"1\" class=\"dataframe\">\n",
       "  <thead>\n",
       "    <tr style=\"text-align: right;\">\n",
       "      <th></th>\n",
       "      <th>Published_date</th>\n",
       "      <th>Headline</th>\n",
       "      <th>link</th>\n",
       "    </tr>\n",
       "  </thead>\n",
       "  <tbody>\n",
       "    <tr>\n",
       "      <th>0</th>\n",
       "      <td>Fri, 01 Jan 2021 08:00:00 GMT</td>\n",
       "      <td>Bitcoin hits all-time high against gold as hav...</td>\n",
       "      <td>https://cointelegraph.com/news/bitcoin-hits-al...</td>\n",
       "    </tr>\n",
       "    <tr>\n",
       "      <th>1</th>\n",
       "      <td>Fri, 01 Jan 2021 08:00:00 GMT</td>\n",
       "      <td>The Accused Fraudster Behind the Bitcoin Boom ...</td>\n",
       "      <td>https://newrepublic.com/article/160773/bitcoin...</td>\n",
       "    </tr>\n",
       "    <tr>\n",
       "      <th>2</th>\n",
       "      <td>Fri, 01 Jan 2021 08:00:00 GMT</td>\n",
       "      <td>Bitcoin supply squeeze heats up as Grayscale b...</td>\n",
       "      <td>https://cointelegraph.com/news/bitcoin-supply-...</td>\n",
       "    </tr>\n",
       "    <tr>\n",
       "      <th>3</th>\n",
       "      <td>Fri, 01 Jan 2021 09:13:19 GMT</td>\n",
       "      <td>Best Ways to Buy Bitcoin on Crypto.com - NewsBTC</td>\n",
       "      <td>https://www.newsbtc.com/sponsored/best-ways-to...</td>\n",
       "    </tr>\n",
       "    <tr>\n",
       "      <th>4</th>\n",
       "      <td>Fri, 01 Jan 2021 08:00:00 GMT</td>\n",
       "      <td>'Noxious Poison' - Bitcoin's Market Cap Surpas...</td>\n",
       "      <td>https://news.bitcoin.com/noxious-poison-bitcoi...</td>\n",
       "    </tr>\n",
       "    <tr>\n",
       "      <th>...</th>\n",
       "      <td>...</td>\n",
       "      <td>...</td>\n",
       "      <td>...</td>\n",
       "    </tr>\n",
       "    <tr>\n",
       "      <th>8735</th>\n",
       "      <td>Fri, 31 Dec 2021 08:00:00 GMT</td>\n",
       "      <td>Terra’s stablecoin jumps 5x valuation in 2021 ...</td>\n",
       "      <td>https://www.businessinsider.in/cryptocurrency/...</td>\n",
       "    </tr>\n",
       "    <tr>\n",
       "      <th>8736</th>\n",
       "      <td>Fri, 31 Dec 2021 08:00:00 GMT</td>\n",
       "      <td>Avalanche (AVAX) Drops to $100 After the Chris...</td>\n",
       "      <td>https://www.securities.io/avalanche-avax-drops...</td>\n",
       "    </tr>\n",
       "    <tr>\n",
       "      <th>8737</th>\n",
       "      <td>Fri, 31 Dec 2021 08:00:00 GMT</td>\n",
       "      <td>The big 2021 travel quiz: from Hadrian's Wall ...</td>\n",
       "      <td>https://www.theguardian.com/travel/2021/dec/31...</td>\n",
       "    </tr>\n",
       "    <tr>\n",
       "      <th>8738</th>\n",
       "      <td>Fri, 31 Dec 2021 08:00:00 GMT</td>\n",
       "      <td>Sensex ends 460 pts up, Nifty tops 17,350 on l...</td>\n",
       "      <td>https://www.livemint.com/market/live-blog/shar...</td>\n",
       "    </tr>\n",
       "    <tr>\n",
       "      <th>8739</th>\n",
       "      <td>Fri, 31 Dec 2021 08:00:00 GMT</td>\n",
       "      <td>Elon Musk claims his AI Tesla bots will develo...</td>\n",
       "      <td>https://www.dailystar.co.uk/tech/elon-musk-cla...</td>\n",
       "    </tr>\n",
       "  </tbody>\n",
       "</table>\n",
       "<p>8740 rows × 3 columns</p>\n",
       "</div>"
      ],
      "text/plain": [
       "                     Published_date  \\\n",
       "0     Fri, 01 Jan 2021 08:00:00 GMT   \n",
       "1     Fri, 01 Jan 2021 08:00:00 GMT   \n",
       "2     Fri, 01 Jan 2021 08:00:00 GMT   \n",
       "3     Fri, 01 Jan 2021 09:13:19 GMT   \n",
       "4     Fri, 01 Jan 2021 08:00:00 GMT   \n",
       "...                             ...   \n",
       "8735  Fri, 31 Dec 2021 08:00:00 GMT   \n",
       "8736  Fri, 31 Dec 2021 08:00:00 GMT   \n",
       "8737  Fri, 31 Dec 2021 08:00:00 GMT   \n",
       "8738  Fri, 31 Dec 2021 08:00:00 GMT   \n",
       "8739  Fri, 31 Dec 2021 08:00:00 GMT   \n",
       "\n",
       "                                               Headline  \\\n",
       "0     Bitcoin hits all-time high against gold as hav...   \n",
       "1     The Accused Fraudster Behind the Bitcoin Boom ...   \n",
       "2     Bitcoin supply squeeze heats up as Grayscale b...   \n",
       "3      Best Ways to Buy Bitcoin on Crypto.com - NewsBTC   \n",
       "4     'Noxious Poison' - Bitcoin's Market Cap Surpas...   \n",
       "...                                                 ...   \n",
       "8735  Terra’s stablecoin jumps 5x valuation in 2021 ...   \n",
       "8736  Avalanche (AVAX) Drops to $100 After the Chris...   \n",
       "8737  The big 2021 travel quiz: from Hadrian's Wall ...   \n",
       "8738  Sensex ends 460 pts up, Nifty tops 17,350 on l...   \n",
       "8739  Elon Musk claims his AI Tesla bots will develo...   \n",
       "\n",
       "                                                   link  \n",
       "0     https://cointelegraph.com/news/bitcoin-hits-al...  \n",
       "1     https://newrepublic.com/article/160773/bitcoin...  \n",
       "2     https://cointelegraph.com/news/bitcoin-supply-...  \n",
       "3     https://www.newsbtc.com/sponsored/best-ways-to...  \n",
       "4     https://news.bitcoin.com/noxious-poison-bitcoi...  \n",
       "...                                                 ...  \n",
       "8735  https://www.businessinsider.in/cryptocurrency/...  \n",
       "8736  https://www.securities.io/avalanche-avax-drops...  \n",
       "8737  https://www.theguardian.com/travel/2021/dec/31...  \n",
       "8738  https://www.livemint.com/market/live-blog/shar...  \n",
       "8739  https://www.dailystar.co.uk/tech/elon-musk-cla...  \n",
       "\n",
       "[8740 rows x 3 columns]"
      ]
     },
     "execution_count": 50,
     "metadata": {},
     "output_type": "execute_result"
    }
   ],
   "source": [
    "date_from = date(2020, 12, 31)\n",
    "date_to = date_from + timedelta(days = 1)\n",
    "df = pd.DataFrame(columns=['Published_date', 'Headline', 'link']) \n",
    "\n",
    "def getNews(_from, _to):\n",
    "    gn = GoogleNews(lang= 'en')\n",
    "    str1 = 'crypto currency'\n",
    "    str2 = 'bitcoin'\n",
    "    newsitem = gn.search(str2, helper = True, when = None, from_ = _from, to_ = _to, proxies=None, scraping_bee=None)\n",
    "    for item in newsitem['entries']:\n",
    "        story = {\n",
    "            'time':item.published,\n",
    "            'title':item.title,\n",
    "            'link':item.link\n",
    "        }\n",
    "        df.loc[len(df)] = [story['time'], story['title'], story['link']]\n",
    "\n",
    "\n",
    "\n",
    "for i in range (365):\n",
    "    date_from += timedelta(days = 1)\n",
    "    date_to += timedelta(days = 1)\n",
    "    getNews(date_from.isoformat(), date_to.isoformat())\n",
    "\n",
    "df"
   ]
  },
  {
   "cell_type": "markdown",
   "metadata": {},
   "source": [
    "- save"
   ]
  },
  {
   "cell_type": "code",
   "execution_count": 51,
   "metadata": {},
   "outputs": [],
   "source": [
    "df.to_csv(\"bitcoinNews2021.csv\")"
   ]
  },
  {
   "cell_type": "markdown",
   "metadata": {},
   "source": [
    "- Remove the same headline"
   ]
  },
  {
   "cell_type": "code",
   "execution_count": 9,
   "metadata": {},
   "outputs": [],
   "source": [
    "df1=pd.read_csv('../../Data/News/bitcoinNews2019.csv', encoding = \"ISO-8859-1\")\n",
    "df2=pd.read_csv('../../Data/News/CryptoNews2019.csv', encoding = \"ISO-8859-1\")\n",
    "cond = df1['Headline'].isin(df2['Headline'])\n",
    "df1.drop(df1[cond].index, inplace = True)\n",
    "df = df1.append(df2)\n",
    "df.to_csv('news2019.csv', encoding= \"ISO-8859-1\" )"
   ]
  },
  {
   "cell_type": "markdown",
   "metadata": {},
   "source": [
    "- cobine 2019 and 2020\n"
   ]
  },
  {
   "cell_type": "code",
   "execution_count": 3,
   "metadata": {},
   "outputs": [],
   "source": [
    "df1=pd.read_csv('../../Data/News/news-2019-2020.csv', encoding = \"ISO-8859-1\")\n",
    "df2=pd.read_csv('../../Data/News/news2021.csv', encoding = \"ISO-8859-1\")\n",
    "df = df1.append(df2)\n",
    "df.to_csv('news-2019-2021.csv', encoding= \"ISO-8859-1\" )"
   ]
  },
  {
   "cell_type": "code",
   "execution_count": null,
   "metadata": {},
   "outputs": [],
   "source": []
  }
 ],
 "metadata": {
  "interpreter": {
   "hash": "aadae092c2ccce02241903eb00013032cfcda01a6700d12e3ae101f1192645be"
  },
  "kernelspec": {
   "display_name": "Python 3.7.9 64-bit ('venv': venv)",
   "language": "python",
   "name": "python3"
  },
  "language_info": {
   "codemirror_mode": {
    "name": "ipython",
    "version": 3
   },
   "file_extension": ".py",
   "mimetype": "text/x-python",
   "name": "python",
   "nbconvert_exporter": "python",
   "pygments_lexer": "ipython3",
   "version": "3.7.9"
  },
  "orig_nbformat": 4
 },
 "nbformat": 4,
 "nbformat_minor": 2
}
